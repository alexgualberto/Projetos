{
  "nbformat": 4,
  "nbformat_minor": 0,
  "metadata": {
    "colab": {
      "provenance": []
    },
    "kernelspec": {
      "name": "python3",
      "display_name": "Python 3"
    },
    "language_info": {
      "name": "python"
    }
  },
  "cells": [
    {
      "cell_type": "markdown",
      "source": [
        "# **Aprendizado de Máquina Não Supervisionado**"
      ],
      "metadata": {
        "id": "KMDWxTJ4FlrH"
      }
    },
    {
      "cell_type": "markdown",
      "source": [
        "### Nome: Alexandre dos Santos Gualberto \n",
        "### Curso: Engenharia de Computação"
      ],
      "metadata": {
        "id": "6Uu2FJd0FnW8"
      }
    },
    {
      "cell_type": "markdown",
      "source": [
        "## **Customers Dataset** \n",
        "### link: https://www.kaggle.com/datasets/datascientistanna/customers-dataset\n"
      ],
      "metadata": {
        "id": "7dI0mGEdNf8Z"
      }
    },
    {
      "cell_type": "markdown",
      "source": [
        " ### Atributos:\n",
        "    1 - Customers ID (Id dos consumidores)\n",
        "    2 - Gender (Gênero 'Male' ou 'Female')\n",
        "    3 - Age (idade)\n",
        "    4 - Annual Income (salário anual)\n",
        "    5 - Spending Score (pontuação de 1 à 100 dada ao consumidor pela loja baseada em comportamento e na forma como o mesmo consome)\n",
        "    6 - Profession (profissão)\n",
        "    7 - Work Experience (experiência profissional em anos)\n",
        "    8 - Family Size (tamanho da família)\n",
        "   \n",
        "  \n",
        "  "
      ],
      "metadata": {
        "id": "wrIsnqZJN1J4"
      }
    },
    {
      "cell_type": "markdown",
      "source": [
        "### Conjunto de Dados e Tratamento de Dados"
      ],
      "metadata": {
        "id": "Cj-7QEuNzHwL"
      }
    },
    {
      "cell_type": "code",
      "source": [
        "import pandas as pd"
      ],
      "metadata": {
        "id": "hd9vFE9-FmPc"
      },
      "execution_count": null,
      "outputs": []
    },
    {
      "cell_type": "code",
      "source": [
        "dados = pd.read_csv('Customers.csv') # lê o arquivo com os dados "
      ],
      "metadata": {
        "id": "1yG8qFZfhJdN"
      },
      "execution_count": null,
      "outputs": []
    },
    {
      "cell_type": "code",
      "source": [
        "dados.head() # Visualização do DataFrame"
      ],
      "metadata": {
        "colab": {
          "base_uri": "https://localhost:8080/",
          "height": 206
        },
        "id": "a4OTJTKThQqZ",
        "outputId": "800d9bdb-638f-48ed-9aa8-8c2b5bfe1aa1"
      },
      "execution_count": null,
      "outputs": [
        {
          "output_type": "execute_result",
          "data": {
            "text/plain": [
              "   CustomerID  Gender  Age  Annual Income ($)  Spending Score (1-100)  \\\n",
              "0           1    Male   19              15000                      39   \n",
              "1           2    Male   21              35000                      81   \n",
              "2           3  Female   20              86000                       6   \n",
              "3           4  Female   23              59000                      77   \n",
              "4           5  Female   31              38000                      40   \n",
              "\n",
              "      Profession  Work Experience  Family Size  \n",
              "0     Healthcare                1            4  \n",
              "1       Engineer                3            3  \n",
              "2       Engineer                1            1  \n",
              "3         Lawyer                0            2  \n",
              "4  Entertainment                2            6  "
            ],
            "text/html": [
              "\n",
              "  <div id=\"df-77892f14-b18a-4f37-bd47-3115f33270b4\">\n",
              "    <div class=\"colab-df-container\">\n",
              "      <div>\n",
              "<style scoped>\n",
              "    .dataframe tbody tr th:only-of-type {\n",
              "        vertical-align: middle;\n",
              "    }\n",
              "\n",
              "    .dataframe tbody tr th {\n",
              "        vertical-align: top;\n",
              "    }\n",
              "\n",
              "    .dataframe thead th {\n",
              "        text-align: right;\n",
              "    }\n",
              "</style>\n",
              "<table border=\"1\" class=\"dataframe\">\n",
              "  <thead>\n",
              "    <tr style=\"text-align: right;\">\n",
              "      <th></th>\n",
              "      <th>CustomerID</th>\n",
              "      <th>Gender</th>\n",
              "      <th>Age</th>\n",
              "      <th>Annual Income ($)</th>\n",
              "      <th>Spending Score (1-100)</th>\n",
              "      <th>Profession</th>\n",
              "      <th>Work Experience</th>\n",
              "      <th>Family Size</th>\n",
              "    </tr>\n",
              "  </thead>\n",
              "  <tbody>\n",
              "    <tr>\n",
              "      <th>0</th>\n",
              "      <td>1</td>\n",
              "      <td>Male</td>\n",
              "      <td>19</td>\n",
              "      <td>15000</td>\n",
              "      <td>39</td>\n",
              "      <td>Healthcare</td>\n",
              "      <td>1</td>\n",
              "      <td>4</td>\n",
              "    </tr>\n",
              "    <tr>\n",
              "      <th>1</th>\n",
              "      <td>2</td>\n",
              "      <td>Male</td>\n",
              "      <td>21</td>\n",
              "      <td>35000</td>\n",
              "      <td>81</td>\n",
              "      <td>Engineer</td>\n",
              "      <td>3</td>\n",
              "      <td>3</td>\n",
              "    </tr>\n",
              "    <tr>\n",
              "      <th>2</th>\n",
              "      <td>3</td>\n",
              "      <td>Female</td>\n",
              "      <td>20</td>\n",
              "      <td>86000</td>\n",
              "      <td>6</td>\n",
              "      <td>Engineer</td>\n",
              "      <td>1</td>\n",
              "      <td>1</td>\n",
              "    </tr>\n",
              "    <tr>\n",
              "      <th>3</th>\n",
              "      <td>4</td>\n",
              "      <td>Female</td>\n",
              "      <td>23</td>\n",
              "      <td>59000</td>\n",
              "      <td>77</td>\n",
              "      <td>Lawyer</td>\n",
              "      <td>0</td>\n",
              "      <td>2</td>\n",
              "    </tr>\n",
              "    <tr>\n",
              "      <th>4</th>\n",
              "      <td>5</td>\n",
              "      <td>Female</td>\n",
              "      <td>31</td>\n",
              "      <td>38000</td>\n",
              "      <td>40</td>\n",
              "      <td>Entertainment</td>\n",
              "      <td>2</td>\n",
              "      <td>6</td>\n",
              "    </tr>\n",
              "  </tbody>\n",
              "</table>\n",
              "</div>\n",
              "      <button class=\"colab-df-convert\" onclick=\"convertToInteractive('df-77892f14-b18a-4f37-bd47-3115f33270b4')\"\n",
              "              title=\"Convert this dataframe to an interactive table.\"\n",
              "              style=\"display:none;\">\n",
              "        \n",
              "  <svg xmlns=\"http://www.w3.org/2000/svg\" height=\"24px\"viewBox=\"0 0 24 24\"\n",
              "       width=\"24px\">\n",
              "    <path d=\"M0 0h24v24H0V0z\" fill=\"none\"/>\n",
              "    <path d=\"M18.56 5.44l.94 2.06.94-2.06 2.06-.94-2.06-.94-.94-2.06-.94 2.06-2.06.94zm-11 1L8.5 8.5l.94-2.06 2.06-.94-2.06-.94L8.5 2.5l-.94 2.06-2.06.94zm10 10l.94 2.06.94-2.06 2.06-.94-2.06-.94-.94-2.06-.94 2.06-2.06.94z\"/><path d=\"M17.41 7.96l-1.37-1.37c-.4-.4-.92-.59-1.43-.59-.52 0-1.04.2-1.43.59L10.3 9.45l-7.72 7.72c-.78.78-.78 2.05 0 2.83L4 21.41c.39.39.9.59 1.41.59.51 0 1.02-.2 1.41-.59l7.78-7.78 2.81-2.81c.8-.78.8-2.07 0-2.86zM5.41 20L4 18.59l7.72-7.72 1.47 1.35L5.41 20z\"/>\n",
              "  </svg>\n",
              "      </button>\n",
              "      \n",
              "  <style>\n",
              "    .colab-df-container {\n",
              "      display:flex;\n",
              "      flex-wrap:wrap;\n",
              "      gap: 12px;\n",
              "    }\n",
              "\n",
              "    .colab-df-convert {\n",
              "      background-color: #E8F0FE;\n",
              "      border: none;\n",
              "      border-radius: 50%;\n",
              "      cursor: pointer;\n",
              "      display: none;\n",
              "      fill: #1967D2;\n",
              "      height: 32px;\n",
              "      padding: 0 0 0 0;\n",
              "      width: 32px;\n",
              "    }\n",
              "\n",
              "    .colab-df-convert:hover {\n",
              "      background-color: #E2EBFA;\n",
              "      box-shadow: 0px 1px 2px rgba(60, 64, 67, 0.3), 0px 1px 3px 1px rgba(60, 64, 67, 0.15);\n",
              "      fill: #174EA6;\n",
              "    }\n",
              "\n",
              "    [theme=dark] .colab-df-convert {\n",
              "      background-color: #3B4455;\n",
              "      fill: #D2E3FC;\n",
              "    }\n",
              "\n",
              "    [theme=dark] .colab-df-convert:hover {\n",
              "      background-color: #434B5C;\n",
              "      box-shadow: 0px 1px 3px 1px rgba(0, 0, 0, 0.15);\n",
              "      filter: drop-shadow(0px 1px 2px rgba(0, 0, 0, 0.3));\n",
              "      fill: #FFFFFF;\n",
              "    }\n",
              "  </style>\n",
              "\n",
              "      <script>\n",
              "        const buttonEl =\n",
              "          document.querySelector('#df-77892f14-b18a-4f37-bd47-3115f33270b4 button.colab-df-convert');\n",
              "        buttonEl.style.display =\n",
              "          google.colab.kernel.accessAllowed ? 'block' : 'none';\n",
              "\n",
              "        async function convertToInteractive(key) {\n",
              "          const element = document.querySelector('#df-77892f14-b18a-4f37-bd47-3115f33270b4');\n",
              "          const dataTable =\n",
              "            await google.colab.kernel.invokeFunction('convertToInteractive',\n",
              "                                                     [key], {});\n",
              "          if (!dataTable) return;\n",
              "\n",
              "          const docLinkHtml = 'Like what you see? Visit the ' +\n",
              "            '<a target=\"_blank\" href=https://colab.research.google.com/notebooks/data_table.ipynb>data table notebook</a>'\n",
              "            + ' to learn more about interactive tables.';\n",
              "          element.innerHTML = '';\n",
              "          dataTable['output_type'] = 'display_data';\n",
              "          await google.colab.output.renderOutput(dataTable, element);\n",
              "          const docLink = document.createElement('div');\n",
              "          docLink.innerHTML = docLinkHtml;\n",
              "          element.appendChild(docLink);\n",
              "        }\n",
              "      </script>\n",
              "    </div>\n",
              "  </div>\n",
              "  "
            ]
          },
          "metadata": {},
          "execution_count": 56
        }
      ]
    },
    {
      "cell_type": "markdown",
      "source": [
        "Ao analisar o DataFrame percebe-se que algumas linhas não possuem valor espepecificado para o atributo 'Profession', por isso tratarei esses dados faltantes atribuindo o valor 'Not specified' para este atributo."
      ],
      "metadata": {
        "id": "jwsBfrdNm4ab"
      }
    },
    {
      "cell_type": "code",
      "source": [
        "dados = dados.fillna({'Profession': 'Not specified'}) # Substitui os valores nulos por 'Not specified'"
      ],
      "metadata": {
        "id": "2l--Xp9uhSA8"
      },
      "execution_count": null,
      "outputs": []
    },
    {
      "cell_type": "code",
      "source": [
        "list(dados['Profession'].drop_duplicates()) # lista dos possíveis valores para o campo após o tratamento de dados faltantes"
      ],
      "metadata": {
        "colab": {
          "base_uri": "https://localhost:8080/"
        },
        "id": "8EjQcRlnloMz",
        "outputId": "a5716d5b-6bee-4453-9edd-1ac2550d71bf"
      },
      "execution_count": null,
      "outputs": [
        {
          "output_type": "execute_result",
          "data": {
            "text/plain": [
              "['Healthcare',\n",
              " 'Engineer',\n",
              " 'Lawyer',\n",
              " 'Entertainment',\n",
              " 'Artist',\n",
              " 'Executive',\n",
              " 'Doctor',\n",
              " 'Homemaker',\n",
              " 'Marketing',\n",
              " 'Not specified']"
            ]
          },
          "metadata": {},
          "execution_count": 58
        }
      ]
    },
    {
      "cell_type": "code",
      "source": [
        "# Transformação dos dados nominais em binários \n",
        "dados = pd.get_dummies(dados, columns = ['Gender', 'Profession']) "
      ],
      "metadata": {
        "id": "mWZwYfmUlqkw"
      },
      "execution_count": null,
      "outputs": []
    },
    {
      "cell_type": "code",
      "source": [
        "from sklearn import preprocessing\n",
        "from sklearn.preprocessing import MinMaxScaler"
      ],
      "metadata": {
        "id": "ovULX9ZKo58B"
      },
      "execution_count": null,
      "outputs": []
    },
    {
      "cell_type": "code",
      "source": [
        "# Normalização dos dados menos CustomerID que funciona como indice\n",
        "scaler = MinMaxScaler()\n",
        "dados[['Age', 'Annual Income ($)','Spending Score (1-100)','Work Experience','Family Size']] = scaler.fit_transform(dados[['Age', 'Annual Income ($)','Spending Score (1-100)','Work Experience','Family Size']])"
      ],
      "metadata": {
        "id": "KbZNk-05qLIL"
      },
      "execution_count": null,
      "outputs": []
    },
    {
      "cell_type": "code",
      "source": [
        "dados"
      ],
      "metadata": {
        "colab": {
          "base_uri": "https://localhost:8080/",
          "height": 522
        },
        "id": "0of_m1mzbm8N",
        "outputId": "e5db1c96-7fa0-4c61-eac6-4fa6c1e2e1f2"
      },
      "execution_count": null,
      "outputs": [
        {
          "output_type": "execute_result",
          "data": {
            "text/plain": [
              "      CustomerID       Age  Annual Income ($)  Spending Score (1-100)  \\\n",
              "0              1  0.191919           0.078958                    0.39   \n",
              "1              2  0.212121           0.184236                    0.81   \n",
              "2              3  0.202020           0.452694                    0.06   \n",
              "3              4  0.232323           0.310569                    0.77   \n",
              "4              5  0.313131           0.200027                    0.40   \n",
              "...          ...       ...                ...                     ...   \n",
              "1995        1996  0.717172           0.970591                    0.40   \n",
              "1996        1997  0.919192           0.385095                    0.32   \n",
              "1997        1998  0.878788           0.478808                    0.14   \n",
              "1998        1999  0.777778           0.958600                    0.04   \n",
              "1999        2000  0.909091           0.582238                    0.52   \n",
              "\n",
              "      Work Experience  Family Size  Gender_Female  Gender_Male  \\\n",
              "0            0.058824        0.375              0            1   \n",
              "1            0.176471        0.250              0            1   \n",
              "2            0.058824        0.000              1            0   \n",
              "3            0.000000        0.125              1            0   \n",
              "4            0.117647        0.625              1            0   \n",
              "...               ...          ...            ...          ...   \n",
              "1995         0.470588        0.750              1            0   \n",
              "1996         0.411765        0.750              1            0   \n",
              "1997         0.529412        0.125              0            1   \n",
              "1998         0.411765        0.125              0            1   \n",
              "1999         0.294118        0.125              0            1   \n",
              "\n",
              "      Profession_Artist  Profession_Doctor  Profession_Engineer  \\\n",
              "0                     0                  0                    0   \n",
              "1                     0                  0                    1   \n",
              "2                     0                  0                    1   \n",
              "3                     0                  0                    0   \n",
              "4                     0                  0                    0   \n",
              "...                 ...                ...                  ...   \n",
              "1995                  1                  0                    0   \n",
              "1996                  0                  1                    0   \n",
              "1997                  0                  0                    0   \n",
              "1998                  0                  0                    0   \n",
              "1999                  0                  0                    0   \n",
              "\n",
              "      Profession_Entertainment  Profession_Executive  Profession_Healthcare  \\\n",
              "0                            0                     0                      1   \n",
              "1                            0                     0                      0   \n",
              "2                            0                     0                      0   \n",
              "3                            0                     0                      0   \n",
              "4                            1                     0                      0   \n",
              "...                        ...                   ...                    ...   \n",
              "1995                         0                     0                      0   \n",
              "1996                         0                     0                      0   \n",
              "1997                         0                     0                      1   \n",
              "1998                         0                     1                      0   \n",
              "1999                         1                     0                      0   \n",
              "\n",
              "      Profession_Homemaker  Profession_Lawyer  Profession_Marketing  \\\n",
              "0                        0                  0                     0   \n",
              "1                        0                  0                     0   \n",
              "2                        0                  0                     0   \n",
              "3                        0                  1                     0   \n",
              "4                        0                  0                     0   \n",
              "...                    ...                ...                   ...   \n",
              "1995                     0                  0                     0   \n",
              "1996                     0                  0                     0   \n",
              "1997                     0                  0                     0   \n",
              "1998                     0                  0                     0   \n",
              "1999                     0                  0                     0   \n",
              "\n",
              "      Profession_Not specified  \n",
              "0                            0  \n",
              "1                            0  \n",
              "2                            0  \n",
              "3                            0  \n",
              "4                            0  \n",
              "...                        ...  \n",
              "1995                         0  \n",
              "1996                         0  \n",
              "1997                         0  \n",
              "1998                         0  \n",
              "1999                         0  \n",
              "\n",
              "[2000 rows x 18 columns]"
            ],
            "text/html": [
              "\n",
              "  <div id=\"df-8f2ef1e3-6a7d-4321-a4a5-b8fb013ac35d\">\n",
              "    <div class=\"colab-df-container\">\n",
              "      <div>\n",
              "<style scoped>\n",
              "    .dataframe tbody tr th:only-of-type {\n",
              "        vertical-align: middle;\n",
              "    }\n",
              "\n",
              "    .dataframe tbody tr th {\n",
              "        vertical-align: top;\n",
              "    }\n",
              "\n",
              "    .dataframe thead th {\n",
              "        text-align: right;\n",
              "    }\n",
              "</style>\n",
              "<table border=\"1\" class=\"dataframe\">\n",
              "  <thead>\n",
              "    <tr style=\"text-align: right;\">\n",
              "      <th></th>\n",
              "      <th>CustomerID</th>\n",
              "      <th>Age</th>\n",
              "      <th>Annual Income ($)</th>\n",
              "      <th>Spending Score (1-100)</th>\n",
              "      <th>Work Experience</th>\n",
              "      <th>Family Size</th>\n",
              "      <th>Gender_Female</th>\n",
              "      <th>Gender_Male</th>\n",
              "      <th>Profession_Artist</th>\n",
              "      <th>Profession_Doctor</th>\n",
              "      <th>Profession_Engineer</th>\n",
              "      <th>Profession_Entertainment</th>\n",
              "      <th>Profession_Executive</th>\n",
              "      <th>Profession_Healthcare</th>\n",
              "      <th>Profession_Homemaker</th>\n",
              "      <th>Profession_Lawyer</th>\n",
              "      <th>Profession_Marketing</th>\n",
              "      <th>Profession_Not specified</th>\n",
              "    </tr>\n",
              "  </thead>\n",
              "  <tbody>\n",
              "    <tr>\n",
              "      <th>0</th>\n",
              "      <td>1</td>\n",
              "      <td>0.191919</td>\n",
              "      <td>0.078958</td>\n",
              "      <td>0.39</td>\n",
              "      <td>0.058824</td>\n",
              "      <td>0.375</td>\n",
              "      <td>0</td>\n",
              "      <td>1</td>\n",
              "      <td>0</td>\n",
              "      <td>0</td>\n",
              "      <td>0</td>\n",
              "      <td>0</td>\n",
              "      <td>0</td>\n",
              "      <td>1</td>\n",
              "      <td>0</td>\n",
              "      <td>0</td>\n",
              "      <td>0</td>\n",
              "      <td>0</td>\n",
              "    </tr>\n",
              "    <tr>\n",
              "      <th>1</th>\n",
              "      <td>2</td>\n",
              "      <td>0.212121</td>\n",
              "      <td>0.184236</td>\n",
              "      <td>0.81</td>\n",
              "      <td>0.176471</td>\n",
              "      <td>0.250</td>\n",
              "      <td>0</td>\n",
              "      <td>1</td>\n",
              "      <td>0</td>\n",
              "      <td>0</td>\n",
              "      <td>1</td>\n",
              "      <td>0</td>\n",
              "      <td>0</td>\n",
              "      <td>0</td>\n",
              "      <td>0</td>\n",
              "      <td>0</td>\n",
              "      <td>0</td>\n",
              "      <td>0</td>\n",
              "    </tr>\n",
              "    <tr>\n",
              "      <th>2</th>\n",
              "      <td>3</td>\n",
              "      <td>0.202020</td>\n",
              "      <td>0.452694</td>\n",
              "      <td>0.06</td>\n",
              "      <td>0.058824</td>\n",
              "      <td>0.000</td>\n",
              "      <td>1</td>\n",
              "      <td>0</td>\n",
              "      <td>0</td>\n",
              "      <td>0</td>\n",
              "      <td>1</td>\n",
              "      <td>0</td>\n",
              "      <td>0</td>\n",
              "      <td>0</td>\n",
              "      <td>0</td>\n",
              "      <td>0</td>\n",
              "      <td>0</td>\n",
              "      <td>0</td>\n",
              "    </tr>\n",
              "    <tr>\n",
              "      <th>3</th>\n",
              "      <td>4</td>\n",
              "      <td>0.232323</td>\n",
              "      <td>0.310569</td>\n",
              "      <td>0.77</td>\n",
              "      <td>0.000000</td>\n",
              "      <td>0.125</td>\n",
              "      <td>1</td>\n",
              "      <td>0</td>\n",
              "      <td>0</td>\n",
              "      <td>0</td>\n",
              "      <td>0</td>\n",
              "      <td>0</td>\n",
              "      <td>0</td>\n",
              "      <td>0</td>\n",
              "      <td>0</td>\n",
              "      <td>1</td>\n",
              "      <td>0</td>\n",
              "      <td>0</td>\n",
              "    </tr>\n",
              "    <tr>\n",
              "      <th>4</th>\n",
              "      <td>5</td>\n",
              "      <td>0.313131</td>\n",
              "      <td>0.200027</td>\n",
              "      <td>0.40</td>\n",
              "      <td>0.117647</td>\n",
              "      <td>0.625</td>\n",
              "      <td>1</td>\n",
              "      <td>0</td>\n",
              "      <td>0</td>\n",
              "      <td>0</td>\n",
              "      <td>0</td>\n",
              "      <td>1</td>\n",
              "      <td>0</td>\n",
              "      <td>0</td>\n",
              "      <td>0</td>\n",
              "      <td>0</td>\n",
              "      <td>0</td>\n",
              "      <td>0</td>\n",
              "    </tr>\n",
              "    <tr>\n",
              "      <th>...</th>\n",
              "      <td>...</td>\n",
              "      <td>...</td>\n",
              "      <td>...</td>\n",
              "      <td>...</td>\n",
              "      <td>...</td>\n",
              "      <td>...</td>\n",
              "      <td>...</td>\n",
              "      <td>...</td>\n",
              "      <td>...</td>\n",
              "      <td>...</td>\n",
              "      <td>...</td>\n",
              "      <td>...</td>\n",
              "      <td>...</td>\n",
              "      <td>...</td>\n",
              "      <td>...</td>\n",
              "      <td>...</td>\n",
              "      <td>...</td>\n",
              "      <td>...</td>\n",
              "    </tr>\n",
              "    <tr>\n",
              "      <th>1995</th>\n",
              "      <td>1996</td>\n",
              "      <td>0.717172</td>\n",
              "      <td>0.970591</td>\n",
              "      <td>0.40</td>\n",
              "      <td>0.470588</td>\n",
              "      <td>0.750</td>\n",
              "      <td>1</td>\n",
              "      <td>0</td>\n",
              "      <td>1</td>\n",
              "      <td>0</td>\n",
              "      <td>0</td>\n",
              "      <td>0</td>\n",
              "      <td>0</td>\n",
              "      <td>0</td>\n",
              "      <td>0</td>\n",
              "      <td>0</td>\n",
              "      <td>0</td>\n",
              "      <td>0</td>\n",
              "    </tr>\n",
              "    <tr>\n",
              "      <th>1996</th>\n",
              "      <td>1997</td>\n",
              "      <td>0.919192</td>\n",
              "      <td>0.385095</td>\n",
              "      <td>0.32</td>\n",
              "      <td>0.411765</td>\n",
              "      <td>0.750</td>\n",
              "      <td>1</td>\n",
              "      <td>0</td>\n",
              "      <td>0</td>\n",
              "      <td>1</td>\n",
              "      <td>0</td>\n",
              "      <td>0</td>\n",
              "      <td>0</td>\n",
              "      <td>0</td>\n",
              "      <td>0</td>\n",
              "      <td>0</td>\n",
              "      <td>0</td>\n",
              "      <td>0</td>\n",
              "    </tr>\n",
              "    <tr>\n",
              "      <th>1997</th>\n",
              "      <td>1998</td>\n",
              "      <td>0.878788</td>\n",
              "      <td>0.478808</td>\n",
              "      <td>0.14</td>\n",
              "      <td>0.529412</td>\n",
              "      <td>0.125</td>\n",
              "      <td>0</td>\n",
              "      <td>1</td>\n",
              "      <td>0</td>\n",
              "      <td>0</td>\n",
              "      <td>0</td>\n",
              "      <td>0</td>\n",
              "      <td>0</td>\n",
              "      <td>1</td>\n",
              "      <td>0</td>\n",
              "      <td>0</td>\n",
              "      <td>0</td>\n",
              "      <td>0</td>\n",
              "    </tr>\n",
              "    <tr>\n",
              "      <th>1998</th>\n",
              "      <td>1999</td>\n",
              "      <td>0.777778</td>\n",
              "      <td>0.958600</td>\n",
              "      <td>0.04</td>\n",
              "      <td>0.411765</td>\n",
              "      <td>0.125</td>\n",
              "      <td>0</td>\n",
              "      <td>1</td>\n",
              "      <td>0</td>\n",
              "      <td>0</td>\n",
              "      <td>0</td>\n",
              "      <td>0</td>\n",
              "      <td>1</td>\n",
              "      <td>0</td>\n",
              "      <td>0</td>\n",
              "      <td>0</td>\n",
              "      <td>0</td>\n",
              "      <td>0</td>\n",
              "    </tr>\n",
              "    <tr>\n",
              "      <th>1999</th>\n",
              "      <td>2000</td>\n",
              "      <td>0.909091</td>\n",
              "      <td>0.582238</td>\n",
              "      <td>0.52</td>\n",
              "      <td>0.294118</td>\n",
              "      <td>0.125</td>\n",
              "      <td>0</td>\n",
              "      <td>1</td>\n",
              "      <td>0</td>\n",
              "      <td>0</td>\n",
              "      <td>0</td>\n",
              "      <td>1</td>\n",
              "      <td>0</td>\n",
              "      <td>0</td>\n",
              "      <td>0</td>\n",
              "      <td>0</td>\n",
              "      <td>0</td>\n",
              "      <td>0</td>\n",
              "    </tr>\n",
              "  </tbody>\n",
              "</table>\n",
              "<p>2000 rows × 18 columns</p>\n",
              "</div>\n",
              "      <button class=\"colab-df-convert\" onclick=\"convertToInteractive('df-8f2ef1e3-6a7d-4321-a4a5-b8fb013ac35d')\"\n",
              "              title=\"Convert this dataframe to an interactive table.\"\n",
              "              style=\"display:none;\">\n",
              "        \n",
              "  <svg xmlns=\"http://www.w3.org/2000/svg\" height=\"24px\"viewBox=\"0 0 24 24\"\n",
              "       width=\"24px\">\n",
              "    <path d=\"M0 0h24v24H0V0z\" fill=\"none\"/>\n",
              "    <path d=\"M18.56 5.44l.94 2.06.94-2.06 2.06-.94-2.06-.94-.94-2.06-.94 2.06-2.06.94zm-11 1L8.5 8.5l.94-2.06 2.06-.94-2.06-.94L8.5 2.5l-.94 2.06-2.06.94zm10 10l.94 2.06.94-2.06 2.06-.94-2.06-.94-.94-2.06-.94 2.06-2.06.94z\"/><path d=\"M17.41 7.96l-1.37-1.37c-.4-.4-.92-.59-1.43-.59-.52 0-1.04.2-1.43.59L10.3 9.45l-7.72 7.72c-.78.78-.78 2.05 0 2.83L4 21.41c.39.39.9.59 1.41.59.51 0 1.02-.2 1.41-.59l7.78-7.78 2.81-2.81c.8-.78.8-2.07 0-2.86zM5.41 20L4 18.59l7.72-7.72 1.47 1.35L5.41 20z\"/>\n",
              "  </svg>\n",
              "      </button>\n",
              "      \n",
              "  <style>\n",
              "    .colab-df-container {\n",
              "      display:flex;\n",
              "      flex-wrap:wrap;\n",
              "      gap: 12px;\n",
              "    }\n",
              "\n",
              "    .colab-df-convert {\n",
              "      background-color: #E8F0FE;\n",
              "      border: none;\n",
              "      border-radius: 50%;\n",
              "      cursor: pointer;\n",
              "      display: none;\n",
              "      fill: #1967D2;\n",
              "      height: 32px;\n",
              "      padding: 0 0 0 0;\n",
              "      width: 32px;\n",
              "    }\n",
              "\n",
              "    .colab-df-convert:hover {\n",
              "      background-color: #E2EBFA;\n",
              "      box-shadow: 0px 1px 2px rgba(60, 64, 67, 0.3), 0px 1px 3px 1px rgba(60, 64, 67, 0.15);\n",
              "      fill: #174EA6;\n",
              "    }\n",
              "\n",
              "    [theme=dark] .colab-df-convert {\n",
              "      background-color: #3B4455;\n",
              "      fill: #D2E3FC;\n",
              "    }\n",
              "\n",
              "    [theme=dark] .colab-df-convert:hover {\n",
              "      background-color: #434B5C;\n",
              "      box-shadow: 0px 1px 3px 1px rgba(0, 0, 0, 0.15);\n",
              "      filter: drop-shadow(0px 1px 2px rgba(0, 0, 0, 0.3));\n",
              "      fill: #FFFFFF;\n",
              "    }\n",
              "  </style>\n",
              "\n",
              "      <script>\n",
              "        const buttonEl =\n",
              "          document.querySelector('#df-8f2ef1e3-6a7d-4321-a4a5-b8fb013ac35d button.colab-df-convert');\n",
              "        buttonEl.style.display =\n",
              "          google.colab.kernel.accessAllowed ? 'block' : 'none';\n",
              "\n",
              "        async function convertToInteractive(key) {\n",
              "          const element = document.querySelector('#df-8f2ef1e3-6a7d-4321-a4a5-b8fb013ac35d');\n",
              "          const dataTable =\n",
              "            await google.colab.kernel.invokeFunction('convertToInteractive',\n",
              "                                                     [key], {});\n",
              "          if (!dataTable) return;\n",
              "\n",
              "          const docLinkHtml = 'Like what you see? Visit the ' +\n",
              "            '<a target=\"_blank\" href=https://colab.research.google.com/notebooks/data_table.ipynb>data table notebook</a>'\n",
              "            + ' to learn more about interactive tables.';\n",
              "          element.innerHTML = '';\n",
              "          dataTable['output_type'] = 'display_data';\n",
              "          await google.colab.output.renderOutput(dataTable, element);\n",
              "          const docLink = document.createElement('div');\n",
              "          docLink.innerHTML = docLinkHtml;\n",
              "          element.appendChild(docLink);\n",
              "        }\n",
              "      </script>\n",
              "    </div>\n",
              "  </div>\n",
              "  "
            ]
          },
          "metadata": {},
          "execution_count": 62
        }
      ]
    },
    {
      "cell_type": "markdown",
      "source": [
        "### Determinação do melhor número de grupos para o conjunto de dados"
      ],
      "metadata": {
        "id": "0FhyCJjPzcaQ"
      }
    },
    {
      "cell_type": "code",
      "source": [
        "import matplotlib.pyplot as plt\n",
        "from sklearn.cluster import KMeans"
      ],
      "metadata": {
        "id": "fTVbiLladU7i"
      },
      "execution_count": null,
      "outputs": []
    },
    {
      "cell_type": "markdown",
      "source": [
        "Para esse conjunto de dados será utilizado um intervalo de k variando de 2 a 15."
      ],
      "metadata": {
        "id": "vN-pfM_av3w1"
      }
    },
    {
      "cell_type": "code",
      "source": [
        "# Função que retorna dois vetores um que armazena os indices de soma quadrática das distâncias e o outro que armazena quantos grupos foram utilizados\n",
        "# perceba que ele armazena os dados de k iterações\n",
        "def encontra_k(df):\n",
        "    \n",
        "    indice_soma_quadraticas = []\n",
        "    valor_k = []\n",
        "    \n",
        "    for k in range(2, 16):\n",
        "        \n",
        "        modelo_kmean = KMeans(n_clusters = k, n_init = 'auto')\n",
        "        modelo_kmean.fit(df)\n",
        "        \n",
        "        indice_soma_quadraticas.append(modelo_kmean.inertia_)\n",
        "        valor_k.append(k)\n",
        "        \n",
        "    \n",
        "    return indice_soma_quadraticas, valor_k"
      ],
      "metadata": {
        "id": "Szvza3FOs8HA"
      },
      "execution_count": null,
      "outputs": []
    },
    {
      "cell_type": "code",
      "source": [
        "# Função que realiza o plot do gráfico cotovelo\n",
        "def elbow_plot(indice_soma_quadraticas, valor_k):\n",
        "    \n",
        "    figure = plt.subplots(figsize = (16, 8))\n",
        "    plt.plot(valor_k, indice_soma_quadraticas, 'o-', color = 'blue')\n",
        "    plt.xlabel(\"K\")\n",
        "    plt.ylabel(\"Soma dos Quadrados das Distâncias\")\n",
        "    plt.title(\"Gráfico cotovelo\")\n",
        "    plt.show()"
      ],
      "metadata": {
        "id": "OsHqd4hJs-ro"
      },
      "execution_count": null,
      "outputs": []
    },
    {
      "cell_type": "code",
      "source": [
        "indice_soma_quadraticas, valor_k = encontra_k(dados)\n",
        "\n",
        "elbow_plot(indice_soma_quadraticas, valor_k)"
      ],
      "metadata": {
        "colab": {
          "base_uri": "https://localhost:8080/",
          "height": 509
        },
        "id": "437LlTbStCyl",
        "outputId": "b4e659d9-ac74-448b-b3c8-e45e83df8276"
      },
      "execution_count": null,
      "outputs": [
        {
          "output_type": "display_data",
          "data": {
            "text/plain": [
              "<Figure size 1152x576 with 1 Axes>"
            ],
            "image/png": "[encoded data removed]"
          },
          "metadata": {
            "needs_background": "light"
          }
        }
      ]
    },
    {
      "cell_type": "markdown",
      "source": [
        "Perceba pelo gráfico que a variação da soma dos quadrados da distância decrescem rápidamente até chegar no valor de k = 5. Portanto, fica determinado que o melhor número de grupos para este Dataset é 5."
      ],
      "metadata": {
        "id": "yko69gEaxVeB"
      }
    },
    {
      "cell_type": "markdown",
      "source": [
        "**Melhor número k de grupos para o conjunto de dados, k = 5.**"
      ],
      "metadata": {
        "id": "6h9xfYzqyQA1"
      }
    }
  ]
}